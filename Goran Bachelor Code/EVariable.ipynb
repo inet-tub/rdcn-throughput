{
 "cells": [
  {
   "cell_type": "code",
   "execution_count": 107,
   "metadata": {},
   "outputs": [],
   "source": [
    "#Notebook which provides best troughput achievable for a given M, N and d with existence of each edge being variable\n",
    "#I'll probably make this into a proper python file soon, but it's more convenient this way for now\n",
    "import gurobipy as gp\n",
    "from gurobipy import GRB\n",
    "import networkx as nx\n",
    "import numpy as np"
   ]
  },
  {
   "cell_type": "code",
   "execution_count": 108,
   "metadata": {},
   "outputs": [],
   "source": [
    "N = 16\n",
    "dE = 8"
   ]
  },
  {
   "cell_type": "code",
   "execution_count": 109,
   "metadata": {},
   "outputs": [],
   "source": [
    "#Specify the demand matrix\n",
    "# demand = np.zeros((N,N))\n",
    "# for i in range(N):\n",
    "#     for j in range(N):\n",
    "#         if i!=j:\n",
    "#             demand[i][j] = dE/(N-1)\n",
    "\n",
    "\n",
    "workdir=\"/home/studium/Documents/Code/rdcn-throughput/matrices/\"\n",
    "demand= np.loadtxt(workdir+\"skew-16-0.9.mat\", usecols=range(N))\n",
    "demand = demand * dE"
   ]
  },
  {
   "cell_type": "code",
   "execution_count": 110,
   "metadata": {},
   "outputs": [],
   "source": [
    "#Initialize the model\n",
    "model = gp.Model(\"throughput\")\n",
    "#TODO: Learn more about tolerances and which to use\n",
    "# model.Params.OptimalityTol = 1e-9\n",
    "# model.Params.FeasibilityTol = 1e-3\n"
   ]
  },
  {
   "cell_type": "code",
   "execution_count": 111,
   "metadata": {},
   "outputs": [],
   "source": [
    "#Add edge vars\n",
    "edge_vars = {}\n",
    "for i in range(N):\n",
    "    for j in range(N):\n",
    "        edge_vars[i, j] = model.addVar(vtype= GRB.INTEGER, name=f\"edge_{i}_{j}\",ub=dE)"
   ]
  },
  {
   "cell_type": "code",
   "execution_count": 112,
   "metadata": {},
   "outputs": [],
   "source": [
    "#Inc edges constraint\n",
    "for i in range(N):\n",
    "    model.addConstr(gp.quicksum(edge_vars[i,j] for j in range(N))<=dE)"
   ]
  },
  {
   "cell_type": "code",
   "execution_count": 113,
   "metadata": {},
   "outputs": [],
   "source": [
    "#Outg edges constraint\n",
    "for i in range(N):\n",
    "    model.addConstr(gp.quicksum(edge_vars[j,i] for j in range(N))<=dE)"
   ]
  },
  {
   "cell_type": "code",
   "execution_count": 114,
   "metadata": {},
   "outputs": [],
   "source": [
    "#Add flow vars for every node combination\n",
    "flow_vars = {}\n",
    "for i in range(N):\n",
    "    for j in range(N):\n",
    "        for s in range(N):\n",
    "            for d in range(N):\n",
    "                flow_vars[s, d, i, j] = model.addVar(vtype= GRB.CONTINUOUS, name=f\"flow_{s}_{d}_{i}_{j}\",lb=0)"
   ]
  },
  {
   "cell_type": "code",
   "execution_count": 115,
   "metadata": {},
   "outputs": [],
   "source": [
    "#Add throughput variable\n",
    "throughput = model.addVar(vtype=GRB.CONTINUOUS,name='throughput',lb=0,ub=1)"
   ]
  },
  {
   "cell_type": "code",
   "execution_count": 116,
   "metadata": {},
   "outputs": [],
   "source": [
    "#Source demand constraint\n",
    "for s in range(N):\n",
    "    for d in range(N):\n",
    "            model.addConstr(gp.quicksum(flow_vars[s, d, s, i] for i in range(N) if i!=s )>= demand[s,d]* throughput,name =f\"sdconst_{s}_{d}\")"
   ]
  },
  {
   "cell_type": "code",
   "execution_count": 117,
   "metadata": {},
   "outputs": [],
   "source": [
    "#Dest demand constraint\n",
    "for s in range(N):\n",
    "    for d in range(N):\n",
    "            model.addConstr(gp.quicksum(flow_vars[s, d, i, d] for i in range(N) if i!=d )>= demand[s,d]* throughput,name =f\"ddconst_{s}_{d}\")"
   ]
  },
  {
   "cell_type": "code",
   "execution_count": 118,
   "metadata": {},
   "outputs": [],
   "source": [
    "#Flow conservation\n",
    "for s in range(N):\n",
    "    for d in range(N):\n",
    "        for j in (j for j in range(N) if j != s and j != d):\n",
    "            model.addConstr(gp.quicksum(flow_vars[s, d, i, j] for i in range(N) if i!=j )-gp.quicksum(flow_vars[s, d, j, k] for k in range(N) if k!=j)== 0,name =f\"fcconst_{s}_{d}_{j}\")"
   ]
  },
  {
   "cell_type": "code",
   "execution_count": 119,
   "metadata": {},
   "outputs": [],
   "source": [
    "#Capacity Constraints\n",
    "for i in range(N):\n",
    "    for j in range(N):\n",
    "        model.addConstr(gp.quicksum(gp.quicksum(flow_vars[s,d,i,j] for d in range(N)) for s in range(N))<= edge_vars[i,j],name =f\"cconst_{s}_{d}\")"
   ]
  },
  {
   "cell_type": "code",
   "execution_count": 120,
   "metadata": {},
   "outputs": [],
   "source": [
    "#Set the objective: maximize throughput\n",
    "model.setObjective(throughput, GRB.MAXIMIZE)"
   ]
  },
  {
   "cell_type": "code",
   "execution_count": null,
   "metadata": {},
   "outputs": [],
   "source": [
    "model.optimize()\n",
    "print(\"Throughput for the given topology and the given demand matrix is:\", throughput.X)\n",
    "for v in model.getVars():\n",
    "        if v.x != 0:\n",
    "                print(v.varName, \"=\", v.x)"
   ]
  }
 ],
 "metadata": {
  "kernelspec": {
   "display_name": "base",
   "language": "python",
   "name": "python3"
  },
  "language_info": {
   "codemirror_mode": {
    "name": "ipython",
    "version": 3
   },
   "file_extension": ".py",
   "mimetype": "text/x-python",
   "name": "python",
   "nbconvert_exporter": "python",
   "pygments_lexer": "ipython3",
   "version": "3.12.4"
  }
 },
 "nbformat": 4,
 "nbformat_minor": 2
}
