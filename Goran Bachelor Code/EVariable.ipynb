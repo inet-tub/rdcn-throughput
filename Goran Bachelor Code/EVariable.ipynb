{
 "cells": [
  {
   "cell_type": "code",
   "execution_count": 47,
   "metadata": {},
   "outputs": [],
   "source": [
    "#Notebook which provides best troughput achievable for a given M, N and d with existence of each edge being variable\n",
    "#I'll probably make this into a proper python file soon, but it's more convenient this way for now\n",
    "import gurobipy as gp\n",
    "from gurobipy import GRB\n",
    "import networkx as nx\n",
    "import numpy as np"
   ]
  },
  {
   "cell_type": "code",
   "execution_count": 48,
   "metadata": {},
   "outputs": [],
   "source": [
    "N = 16\n",
    "dE = 8"
   ]
  },
  {
   "cell_type": "code",
   "execution_count": 49,
   "metadata": {},
   "outputs": [],
   "source": [
    "#Specify the demand matrix\n",
    "# demand = np.zeros((N,N))\n",
    "# for i in range(N):\n",
    "#     for j in range(N):\n",
    "#         if i!=j:\n",
    "#             demand[i][j] = dE/(N-1)\n",
    "\n",
    "\n",
    "workdir=\"/home/studium/Documents/Code/rdcn-throughput-master/matrices/\"\n",
    "demand= np.loadtxt(workdir+\"data-parallelism.mat\", usecols=range(N))\n",
    "demand = demand * dE"
   ]
  },
  {
   "cell_type": "code",
   "execution_count": 50,
   "metadata": {},
   "outputs": [
    {
     "name": "stdout",
     "output_type": "stream",
     "text": [
      "Set parameter OptimalityTol to value 1e-08\n",
      "Set parameter FeasibilityTol to value 0.0001\n"
     ]
    }
   ],
   "source": [
    "#Initialize the model\n",
    "model = gp.Model(\"throughput\")\n",
    "#TODO: Learn more about tolerances and which to use\n",
    "# model.Params.OptimalityTol = 1e-9\n",
    "# model.Params.FeasibilityTol = 1e-3\n"
   ]
  },
  {
   "cell_type": "code",
   "execution_count": 51,
   "metadata": {},
   "outputs": [],
   "source": [
    "#Add edge vars\n",
    "edge_vars = {}\n",
    "for i in range(N):\n",
    "    for j in range(N):\n",
    "        edge_vars[i, j] = model.addVar(vtype= GRB.INTEGER, name=f\"edge_{i}_{j}\",ub=dE)"
   ]
  },
  {
   "cell_type": "code",
   "execution_count": 52,
   "metadata": {},
   "outputs": [],
   "source": [
    "#Inc edges constraint\n",
    "for i in range(N):\n",
    "    model.addConstr(gp.quicksum(edge_vars[i,j] for j in range(N))<=dE)"
   ]
  },
  {
   "cell_type": "code",
   "execution_count": 53,
   "metadata": {},
   "outputs": [],
   "source": [
    "#Outg edges constraint\n",
    "for i in range(N):\n",
    "    model.addConstr(gp.quicksum(edge_vars[j,i] for j in range(N))<=dE)"
   ]
  },
  {
   "cell_type": "code",
   "execution_count": 54,
   "metadata": {},
   "outputs": [],
   "source": [
    "#Add flow vars for every node combination\n",
    "flow_vars = {}\n",
    "for i in range(N):\n",
    "    for j in range(N):\n",
    "        for s in range(N):\n",
    "            for d in range(N):\n",
    "                flow_vars[s, d, i, j] = model.addVar(vtype= GRB.CONTINUOUS, name=f\"flow_{s}_{d}_{i}_{j}\",lb=0)"
   ]
  },
  {
   "cell_type": "code",
   "execution_count": 55,
   "metadata": {},
   "outputs": [],
   "source": [
    "#Add throughput variable\n",
    "throughput = model.addVar(vtype=GRB.CONTINUOUS,name='throughput',lb=0,ub=1)"
   ]
  },
  {
   "cell_type": "code",
   "execution_count": 56,
   "metadata": {},
   "outputs": [],
   "source": [
    "#Source demand constraint\n",
    "for s in range(N):\n",
    "    for d in range(N):\n",
    "            model.addConstr(gp.quicksum(flow_vars[s, d, s, i] for i in range(N) if i!=s )>= demand[s,d]* throughput,name =f\"sdconst_{s}_{d}\")"
   ]
  },
  {
   "cell_type": "code",
   "execution_count": 57,
   "metadata": {},
   "outputs": [],
   "source": [
    "#Dest demand constraint\n",
    "for s in range(N):\n",
    "    for d in range(N):\n",
    "            model.addConstr(gp.quicksum(flow_vars[s, d, i, d] for i in range(N) if i!=d )>= demand[s,d]* throughput,name =f\"ddconst_{s}_{d}\")"
   ]
  },
  {
   "cell_type": "code",
   "execution_count": 58,
   "metadata": {},
   "outputs": [],
   "source": [
    "#Flow conservation\n",
    "for s in range(N):\n",
    "    for d in range(N):\n",
    "        for j in (j for j in range(N) if j != s and j != d):\n",
    "            model.addConstr(gp.quicksum(flow_vars[s, d, i, j] for i in range(N) if i!=j )-gp.quicksum(flow_vars[s, d, j, k] for k in range(N) if k!=j)== 0,name =f\"fcconst_{s}_{d}_{j}\")"
   ]
  },
  {
   "cell_type": "code",
   "execution_count": 59,
   "metadata": {},
   "outputs": [],
   "source": [
    "#Capacity Constraints\n",
    "for i in range(N):\n",
    "    for j in range(N):\n",
    "        model.addConstr(gp.quicksum(gp.quicksum(flow_vars[s,d,i,j] for d in range(N)) for s in range(N))<= edge_vars[i,j],name =f\"cconst_{s}_{d}\")"
   ]
  },
  {
   "cell_type": "code",
   "execution_count": 60,
   "metadata": {},
   "outputs": [],
   "source": [
    "#Set the objective: maximize throughput\n",
    "model.setObjective(throughput, GRB.MAXIMIZE)"
   ]
  },
  {
   "cell_type": "code",
   "execution_count": 61,
   "metadata": {},
   "outputs": [
    {
     "name": "stdout",
     "output_type": "stream",
     "text": [
      "Gurobi Optimizer version 11.0.3 build v11.0.3rc0 (linux64 - \"TUXEDO OS 2\")\n",
      "\n",
      "CPU model: AMD Ryzen 5 5500U with Radeon Graphics, instruction set [SSE2|AVX|AVX2]\n",
      "Thread count: 6 physical cores, 12 logical processors, using up to 12 threads\n",
      "\n",
      "Optimize a model with 4400 rows, 65793 columns and 182496 nonzeros\n",
      "Model fingerprint: 0xb0512df3\n",
      "Variable types: 65537 continuous, 256 integer (0 binary)\n",
      "Coefficient statistics:\n",
      "  Matrix range     [1e-05, 8e+00]\n",
      "  Objective range  [1e+00, 1e+00]\n",
      "  Bounds range     [1e+00, 8e+00]\n",
      "  RHS range        [8e+00, 8e+00]\n",
      "Found heuristic solution: objective -0.0000000\n",
      "Presolve removed 1856 rows and 27894 columns\n",
      "Presolve time: 0.22s\n",
      "Presolved: 2544 rows, 37899 columns, 105922 nonzeros\n",
      "Variable types: 37659 continuous, 240 integer (0 binary)\n",
      "Deterministic concurrent LP optimizer: primal and dual simplex\n",
      "Showing primal log only...\n",
      "\n",
      "Concurrent spin time: 0.00s\n",
      "\n",
      "Solved with primal simplex\n",
      "\n",
      "Root relaxation: objective 1.000000e+00, 196 iterations, 0.08 seconds (0.08 work units)\n",
      "\n",
      "    Nodes    |    Current Node    |     Objective Bounds      |     Work\n",
      " Expl Unexpl |  Obj  Depth IntInf | Incumbent    BestBd   Gap | It/Node Time\n",
      "\n",
      "     0     0    1.00000    0    9   -0.00000    1.00000      -     -    0s\n",
      "H    0     0                       0.9114964    1.00000  9.71%     -    0s\n",
      "H    0     0                       1.0000000    1.00000  0.00%     -    0s\n",
      "     0     0    1.00000    0   12    1.00000    1.00000  0.00%     -    0s\n",
      "\n",
      "Cutting planes:\n",
      "  Gomory: 1\n",
      "  MIR: 9\n",
      "\n",
      "Explored 1 nodes (733 simplex iterations) in 0.57 seconds (0.58 work units)\n",
      "Thread count was 12 (of 12 available processors)\n",
      "\n",
      "Solution count 3: 1 0.911496 -0 \n",
      "\n",
      "Optimal solution found (tolerance 1.00e-04)\n",
      "Warning: max constraint violation (1.5457e-04) exceeds tolerance\n",
      "Best objective 1.000000000000e+00, best bound 1.000000000000e+00, gap 0.0000%\n",
      "Throughput for the given topology and the given demand matrix is: 1.0\n",
      "edge_0_1 = 8.0\n",
      "edge_1_2 = 8.0\n",
      "edge_2_3 = 8.0\n",
      "edge_3_4 = 8.0\n",
      "edge_4_5 = 8.0\n",
      "edge_5_6 = 8.0\n",
      "edge_6_7 = 8.0\n",
      "edge_7_8 = 8.0\n",
      "edge_8_9 = 7.0\n",
      "edge_9_10 = 7.0\n",
      "edge_10_11 = 7.0\n",
      "edge_11_12 = 7.0\n",
      "edge_12_13 = 6.0\n",
      "edge_13_14 = 6.0\n",
      "edge_14_15 = 6.0\n",
      "edge_15_0 = 8.0\n",
      "flow_0_1_0_1 = 8.0\n",
      "flow_1_2_1_2 = 8.0\n",
      "flow_2_3_2_3 = 8.0\n",
      "flow_3_4_3_4 = 8.0\n",
      "flow_4_5_4_5 = 8.0\n",
      "flow_5_6_5_6 = 8.0\n",
      "flow_6_7_6_7 = 8.0\n",
      "flow_7_8_7_8 = 8.0\n",
      "flow_8_9_8_9 = 7.0\n",
      "flow_9_10_9_10 = 6.9997962203882125\n",
      "flow_9_11_9_10 = 0.00020377961178838627\n",
      "flow_9_11_10_11 = 0.00020377961178838627\n",
      "flow_10_11_10_11 = 6.999459780126141\n",
      "flow_10_12_10_11 = 0.00033644026206233735\n",
      "flow_10_12_11_12 = 0.00033644026206233735\n",
      "flow_11_12_11_12 = 6.999138729374041\n",
      "flow_11_13_11_12 = 0.0005248303638935901\n",
      "flow_11_13_12_13 = 0.0005248303638935901\n",
      "flow_12_13_12_13 = 5.998691526929108\n",
      "flow_12_14_12_13 = 0.0007836427069976791\n",
      "flow_12_14_13_14 = 0.0007836427069976791\n",
      "flow_13_14_13_14 = 5.998272221854403\n",
      "flow_13_15_13_14 = 0.000944135438599776\n",
      "flow_13_15_14_15 = 0.000944135438599776\n",
      "flow_14_15_14_15 = 5.999055864561401\n",
      "flow_15_0_15_0 = 8.0\n",
      "throughput = 1.0\n"
     ]
    }
   ],
   "source": [
    "model.optimize()\n",
    "print(\"Throughput for the given topology and the given demand matrix is:\", throughput.X)\n",
    "for v in model.getVars():\n",
    "        if v.x != 0:\n",
    "                print(v.varName, \"=\", v.x)"
   ]
  }
 ],
 "metadata": {
  "kernelspec": {
   "display_name": "base",
   "language": "python",
   "name": "python3"
  },
  "language_info": {
   "codemirror_mode": {
    "name": "ipython",
    "version": 3
   },
   "file_extension": ".py",
   "mimetype": "text/x-python",
   "name": "python",
   "nbconvert_exporter": "python",
   "pygments_lexer": "ipython3",
   "version": "3.12.4"
  }
 },
 "nbformat": 4,
 "nbformat_minor": 2
}
