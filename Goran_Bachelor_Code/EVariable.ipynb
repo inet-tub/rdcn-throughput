{
 "cells": [
  {
   "cell_type": "code",
   "execution_count": 18,
   "metadata": {},
   "outputs": [],
   "source": [
    "#Notebook which provides best troughput achievable for a given M, N and d with existence of each edge being variable\n",
    "#I'll probably make this into a proper python file soon, but it's more convenient this way for now\n",
    "import gurobipy as gp\n",
    "from gurobipy import GRB\n",
    "import networkx as nx\n",
    "import numpy as np"
   ]
  },
  {
   "cell_type": "code",
   "execution_count": 19,
   "metadata": {},
   "outputs": [],
   "source": [
    "N = 16\n",
    "dE = 8"
   ]
  },
  {
   "cell_type": "code",
   "execution_count": 20,
   "metadata": {},
   "outputs": [],
   "source": [
    "#Specify the demand matrix\n",
    "# demand = np.zeros((N,N))\n",
    "# for i in range(N):\n",
    "#     for j in range(N):\n",
    "#         if i!=j:\n",
    "#             demand[i][j] = dE/(N-1)\n",
    "\n",
    "\n",
    "workdir=\"/home/studium/Documents/Code/rdcn-throughput/matrices/\"\n",
    "demand= np.loadtxt(workdir+\"skew-16-0.1.mat\", usecols=range(N))\n",
    "demand = demand * dE"
   ]
  },
  {
   "cell_type": "code",
   "execution_count": 21,
   "metadata": {},
   "outputs": [],
   "source": [
    "#Initialize the model\n",
    "model = gp.Model(\"throughput\")\n",
    "#TODO: Learn more about tolerances and which to use\n",
    "# model.Params.OptimalityTol = 1e-9\n",
    "# model.Params.FeasibilityTol = 1e-9\n"
   ]
  },
  {
   "cell_type": "code",
   "execution_count": 22,
   "metadata": {},
   "outputs": [],
   "source": [
    "#Add edge vars\n",
    "edge_vars = {}\n",
    "for i in range(N):\n",
    "    for j in range(N):\n",
    "        edge_vars[i, j] = model.addVar(vtype= GRB.INTEGER, name=f\"edge_{i}_{j}\",ub=dE)"
   ]
  },
  {
   "cell_type": "code",
   "execution_count": 23,
   "metadata": {},
   "outputs": [],
   "source": [
    "#Inc edges constraint\n",
    "for i in range(N):\n",
    "    model.addConstr(gp.quicksum(edge_vars[i,j] for j in range(N))<=dE)"
   ]
  },
  {
   "cell_type": "code",
   "execution_count": 24,
   "metadata": {},
   "outputs": [],
   "source": [
    "#Outg edges constraint\n",
    "for i in range(N):\n",
    "    model.addConstr(gp.quicksum(edge_vars[j,i] for j in range(N))<=dE)"
   ]
  },
  {
   "cell_type": "code",
   "execution_count": 25,
   "metadata": {},
   "outputs": [],
   "source": [
    "#Add flow vars for every node combination\n",
    "flow_vars = {}\n",
    "for s in range(N):\n",
    "    for d in range(N):\n",
    "        if demand[s,d] > 0:\n",
    "            for i in range(N):\n",
    "                for j in range(N):\n",
    "                    flow_vars[s, d, i, j] = model.addVar(vtype= GRB.CONTINUOUS, name=f\"flow_{s}_{d}_{i}_{j}\",lb=0)"
   ]
  },
  {
   "cell_type": "code",
   "execution_count": 26,
   "metadata": {},
   "outputs": [],
   "source": [
    "#Add throughput variable\n",
    "throughput = model.addVar(vtype=GRB.CONTINUOUS,name='throughput',lb=0,ub=1)"
   ]
  },
  {
   "cell_type": "code",
   "execution_count": 27,
   "metadata": {},
   "outputs": [],
   "source": [
    "#Source demand constraint\n",
    "for s in range(N):\n",
    "    for d in range(N):\n",
    "            if demand[s,d] > 0:\n",
    "                model.addConstr(gp.quicksum(flow_vars[s, d, s, i] for i in range(N) if i!=s )>= demand[s,d]* throughput,name =f\"sdconst_{s}_{d}\")"
   ]
  },
  {
   "cell_type": "code",
   "execution_count": 28,
   "metadata": {},
   "outputs": [],
   "source": [
    "#Dest demand constraint\n",
    "for s in range(N):\n",
    "    for d in range(N):\n",
    "            if demand[s,d] > 0:\n",
    "                model.addConstr(gp.quicksum(flow_vars[s, d, i, d] for i in range(N) if i!=d )>= demand[s,d]* throughput,name =f\"ddconst_{s}_{d}\")"
   ]
  },
  {
   "cell_type": "code",
   "execution_count": 29,
   "metadata": {},
   "outputs": [],
   "source": [
    "#Flow conservation\n",
    "for s in range(N):\n",
    "    for d in range(N):\n",
    "        if demand[s,d] > 0:\n",
    "            for j in (j for j in range(N) if j != s and j != d):\n",
    "                model.addConstr(gp.quicksum(flow_vars[s, d, i, j] for i in range(N) if i!=j )-gp.quicksum(flow_vars[s, d, j, k] for k in range(N) if k!=j)== 0,name =f\"fcconst_{s}_{d}_{j}\")"
   ]
  },
  {
   "cell_type": "code",
   "execution_count": 30,
   "metadata": {},
   "outputs": [],
   "source": [
    "#Capacity Constraints\n",
    "for i in range(N):\n",
    "    for j in range(N):\n",
    "        model.addConstr(gp.quicksum(flow_vars[s,d,i,j] for d in range(N) for s in range(N) if demand[s,d] > 0)<= edge_vars[i,j],name =f\"cconst_{s}_{d}\")"
   ]
  },
  {
   "cell_type": "code",
   "execution_count": 31,
   "metadata": {},
   "outputs": [],
   "source": [
    "#Set the objective: maximize throughput\n",
    "model.setObjective(throughput, GRB.MAXIMIZE)"
   ]
  },
  {
   "cell_type": "code",
   "execution_count": 32,
   "metadata": {},
   "outputs": [
    {
     "name": "stdout",
     "output_type": "stream",
     "text": [
      "Gurobi Optimizer version 11.0.3 build v11.0.3rc0 (linux64 - \"TUXEDO OS 2\")\n",
      "\n",
      "CPU model: AMD Ryzen 5 5500U with Radeon Graphics, instruction set [SSE2|AVX|AVX2]\n",
      "Thread count: 6 physical cores, 12 logical processors, using up to 12 threads\n",
      "\n",
      "Optimize a model with 288 rows, 257 columns and 768 nonzeros\n",
      "Model fingerprint: 0xe42f49bd\n",
      "Variable types: 1 continuous, 256 integer (0 binary)\n",
      "Coefficient statistics:\n",
      "  Matrix range     [1e+00, 1e+00]\n",
      "  Objective range  [1e+00, 1e+00]\n",
      "  Bounds range     [1e+00, 8e+00]\n",
      "  RHS range        [8e+00, 8e+00]\n",
      "Found heuristic solution: objective 1.0000000\n",
      "\n",
      "Explored 0 nodes (0 simplex iterations) in 0.00 seconds (0.00 work units)\n",
      "Thread count was 1 (of 12 available processors)\n",
      "\n",
      "Solution count 1: 1 \n",
      "\n",
      "Optimal solution found (tolerance 1.00e-04)\n",
      "Best objective 1.000000000000e+00, best bound 1.000000000000e+00, gap 0.0000%\n",
      "Throughput for the given topology and the given demand matrix is: 1.0\n",
      "throughput = 1.0\n"
     ]
    }
   ],
   "source": [
    "model.optimize()\n",
    "print(\"Throughput for the given topology and the given demand matrix is:\", throughput.X)\n",
    "for v in model.getVars():\n",
    "        if v.x != 0:\n",
    "                print(v.varName, \"=\", v.x)"
   ]
  }
 ],
 "metadata": {
  "kernelspec": {
   "display_name": "base",
   "language": "python",
   "name": "python3"
  },
  "language_info": {
   "codemirror_mode": {
    "name": "ipython",
    "version": 3
   },
   "file_extension": ".py",
   "mimetype": "text/x-python",
   "name": "python",
   "nbconvert_exporter": "python",
   "pygments_lexer": "ipython3",
   "version": "3.12.4"
  }
 },
 "nbformat": 4,
 "nbformat_minor": 2
}
